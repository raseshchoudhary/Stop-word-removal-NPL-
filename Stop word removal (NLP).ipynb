{
 "cells": [
  {
   "cell_type": "markdown",
   "id": "8f49e536",
   "metadata": {},
   "source": [
    "# Question\n",
    "Create a python function that takes a string as an input and returns a string without stopwords as an output. "
   ]
  },
  {
   "cell_type": "code",
   "execution_count": 3,
   "id": "8d388adf",
   "metadata": {},
   "outputs": [],
   "source": [
    "# I am writing some code as hints, feel free to solve it however you want\n",
    "from nltk.corpus import stopwords\n",
    "from nltk.tokenize import word_tokenize"
   ]
  },
  {
   "cell_type": "code",
   "execution_count": 4,
   "id": "228467aa",
   "metadata": {},
   "outputs": [],
   "source": [
    "import nltk"
   ]
  },
  {
   "cell_type": "code",
   "execution_count": 5,
   "id": "ad303a1a",
   "metadata": {},
   "outputs": [],
   "source": [
    "b=('articles are words that define a noun as specific or unspecific. Consider the following examples: By using the article the, we’ve shown that it was one specific day that was long and one specific cup of tea that tasted good. By using the article a, we’ve created a general statement, implying that any cup of tea would')"
   ]
  },
  {
   "cell_type": "code",
   "execution_count": 6,
   "id": "d0bfa47c",
   "metadata": {},
   "outputs": [],
   "source": [
    "stop_words=stopwords.words(\"english\")"
   ]
  },
  {
   "cell_type": "code",
   "execution_count": 7,
   "id": "619e1bb8",
   "metadata": {},
   "outputs": [],
   "source": [
    "c=nltk.word_tokenize(b)"
   ]
  },
  {
   "cell_type": "code",
   "execution_count": 8,
   "id": "d3f35750",
   "metadata": {},
   "outputs": [
    {
     "name": "stdout",
     "output_type": "stream",
     "text": [
      "articles\n",
      "words\n",
      "define\n",
      "noun\n",
      "specific\n",
      "unspecific\n",
      ".\n",
      "Consider\n",
      "following\n",
      "examples\n",
      ":\n",
      "By\n",
      "using\n",
      "article\n",
      ",\n",
      "’\n",
      "shown\n",
      "one\n",
      "specific\n",
      "day\n",
      "long\n",
      "one\n",
      "specific\n",
      "cup\n",
      "tea\n",
      "tasted\n",
      "good\n",
      ".\n",
      "By\n",
      "using\n",
      "article\n",
      ",\n",
      "’\n",
      "created\n",
      "general\n",
      "statement\n",
      ",\n",
      "implying\n",
      "cup\n",
      "tea\n",
      "would\n"
     ]
    }
   ],
   "source": [
    "for i in c:\n",
    "    if i in stop_words:\n",
    "        pass\n",
    "    else: \n",
    "        print(i)"
   ]
  },
  {
   "cell_type": "code",
   "execution_count": 9,
   "id": "b222f9ff",
   "metadata": {},
   "outputs": [],
   "source": [
    "# the final code:\n",
    "def rem_stop_words(x):\n",
    " y=nltk.word_tokenize(x)\n",
    " for i in y:\n",
    "    if i in stopwords.words(\"english\"): \n",
    "        pass\n",
    "    else: \n",
    "        print(i)"
   ]
  },
  {
   "cell_type": "code",
   "execution_count": 10,
   "id": "e244dc8a",
   "metadata": {},
   "outputs": [
    {
     "name": "stdout",
     "output_type": "stream",
     "text": [
      "Hi\n",
      "I\n",
      "Rasesh\n",
      "Choudhary\n",
      "I\n",
      "student\n",
      "BMU\n"
     ]
    }
   ],
   "source": [
    "rem_stop_words(\"Hi I am Rasesh Choudhary and I am a student of BMU\")"
   ]
  },
  {
   "cell_type": "code",
   "execution_count": 23,
   "id": "f4fcf80e",
   "metadata": {},
   "outputs": [],
   "source": [
    "# the final code using return:\n",
    "def rem_stop_words(x):\n",
    " y=nltk.word_tokenize(x)\n",
    " my_list=[]\n",
    " for i in y:\n",
    "    if i in stopwords.words(\"english\"): \n",
    "        pass\n",
    "    else:\n",
    "        my_list.append(i)\n",
    "        return my_list"
   ]
  }
 ],
 "metadata": {
  "kernelspec": {
   "display_name": "Python 3 (ipykernel)",
   "language": "python",
   "name": "python3"
  },
  "language_info": {
   "codemirror_mode": {
    "name": "ipython",
    "version": 3
   },
   "file_extension": ".py",
   "mimetype": "text/x-python",
   "name": "python",
   "nbconvert_exporter": "python",
   "pygments_lexer": "ipython3",
   "version": "3.9.13"
  }
 },
 "nbformat": 4,
 "nbformat_minor": 5
}
